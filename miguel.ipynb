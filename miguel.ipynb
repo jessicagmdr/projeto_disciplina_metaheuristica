{
 "cells": [
  {
   "cell_type": "code",
   "execution_count": null,
   "metadata": {},
   "outputs": [],
   "source": [
    "# Bibliotecas necessárias\n",
    "\n",
    "import numpy as np\n",
    "import pandas as pd\n",
    "import matplotlib.pyplot as plt\n",
    "import random"
   ]
  },
  {
   "cell_type": "code",
   "execution_count": null,
   "metadata": {},
   "outputs": [],
   "source": [
    "# Leitura dos dados\n",
    "\n",
    "demandareal = pd.read_excel(\"setembro2021.xlsx\")\n",
    "demandareal = demandareal[\"CONSUMO\"].values\n",
    "teste = np.reshape(demandareal,(30,24))\n"
   ]
  },
  {
   "cell_type": "code",
   "execution_count": null,
   "metadata": {},
   "outputs": [],
   "source": [
    "# Função objetivo a ser minimizada, com penalidade de demanda\n",
    "\n",
    "def fitness(individuo,demanda,volume_maximo,volume_minimo,custo,vazao,check = 0):\n",
    "\n",
    "    volume = volume_maximo\n",
    "\n",
    "    fit = np.sum(custo[individuo])\n",
    "    volume_t = individuo*vazao - demanda\n",
    "    volume_t = np.array([volume] + list(volume_t))\n",
    "    volume_t = np.cumsum(volume_t)\n",
    "    volume_penal = volume_t[(volume_t <volume_minimo)| (volume_t  >volume_maximo)]\n",
    "\n",
    "    if(check == 1):\n",
    "        print(volume_penal,fit,len(volume_penal))\n",
    "\n",
    "    fit += fit*(np.sum(np.abs(volume_penal-volume)))\n",
    "    return fit"
   ]
  },
  {
   "cell_type": "code",
   "execution_count": null,
   "metadata": {},
   "outputs": [],
   "source": [
    "# Definição da tarifa:\n",
    "\n",
    "def S(t):\n",
    "    hora = t % 24  # Calcula a hora do dia a partir do índice t\n",
    "    if hora >= 17 and hora < 21:  # Horário de ponta\n",
    "        return 1.63527\n",
    "    else:  # Horário fora de ponta\n",
    "        return 0.62124\n",
    "        \n",
    "tarifa = np.array([S(i) for i in range(len(demandareal))])"
   ]
  },
  {
   "cell_type": "code",
   "execution_count": null,
   "metadata": {},
   "outputs": [],
   "source": [
    "# Seleção\n",
    "def selecao(populacao, aptidao):\n",
    "    aid = np.random.choice(len(populacao), size=2, replace=False)\n",
    "    bid = np.random.choice(len(populacao), size=2, replace=False)\n",
    "    \n",
    "    aid = aid[np.argmax(aptidao[aid])]\n",
    "    bid = bid[np.argmax(aptidao[bid])]\n",
    "    a = populacao[aid]\n",
    "    b = populacao[bid]\n",
    "    apt = aptidao[aid]\n",
    "    bpt = aptidao[bid]\n",
    "    \n",
    "    return np.array([a, b]), np.array([apt, bpt])"
   ]
  },
  {
   "cell_type": "code",
   "execution_count": null,
   "metadata": {},
   "outputs": [],
   "source": [
    "# Cruzamento\n",
    "\n",
    "def cruzamento(pais,aptidao,procruz):\n",
    "    if(np.random.rand()<procruz):\n",
    "        p = 1 - aptidao/(np.sum(aptidao))\n",
    "        filho = np.array([pais[0][i] if(np.random.rand() < p[0]) else pais[1][i] for i in range(pais.shape[1])])\n",
    "    else:\n",
    "        filho = pais[np.argmin(aptidao),:]\n",
    "    return filho "
   ]
  },
  {
   "cell_type": "code",
   "execution_count": null,
   "metadata": {},
   "outputs": [],
   "source": [
    "# Mutação\n",
    "\n",
    "def mutacao(individuo, probmut):\n",
    "    n = len(individuo)\n",
    "    copia = np.copy(individuo)\n",
    "    num_mutacoes = int(probmut * n)\n",
    "    idx = np.random.choice(n, size=num_mutacoes, replace=False)\n",
    "\n",
    "    for i in range(num_mutacoes):\n",
    "        gene = idx[i]\n",
    "        novo_valor = np.random.uniform(0, 1)\n",
    "        novo_gene = 0 if novo_valor <= 0.5 else 1\n",
    "        copia[gene] = novo_gene\n",
    "\n",
    "    return copia"
   ]
  },
  {
   "cell_type": "code",
   "execution_count": null,
   "metadata": {},
   "outputs": [],
   "source": [
    "def AG(demandareal,tarifa,volume_maximo,volume_minimo,vazao,taxa_cruzamento,probmut,num_individuals):\n",
    "    np.random.seed(424)\n",
    "    num_genes = len(demandareal)\n",
    "    populacao = np.random.choice([True, False], size=(num_individuals,num_genes))\n",
    "    F = lambda individuo: fitness(individuo, demandareal, volume_maximo, volume_minimo, tarifa, vazao)\n",
    "    aptidao = np.array([F(individuo) for individuo in populacao])\n",
    "    \n",
    "    historico = []\n",
    "    contador = 0\n",
    "    while True:\n",
    "        \n",
    "        pais,apt = selecao(populacao,aptidao)\n",
    "\n",
    "        filho = cruzamento(pais,apt,taxa_cruzamento)\n",
    "        filho = mutacao(filho,probmut)\n",
    "\n",
    "        # Elitismo para garantir que o pior individuo seja substituido pelo melhor. O pior tem apt max e o melhor apt min.\n",
    "        populacao[np.argmax(aptidao),:] = filho\n",
    "        aptidao[np.argmax(aptidao)] = F(filho)\n",
    "\n",
    "        historico.append([aptidao[np.argmin(aptidao)],np.mean(aptidao)])\n",
    "\n",
    "        if(np.mean(aptidao) - aptidao[np.argmin(aptidao)] < 1e-5):\n",
    "            break\n",
    "        contador += 1\n",
    "        if(contador%1000 == 0):\n",
    "            print(aptidao[np.argmin(aptidao)])\n",
    "        if(aptidao[np.argmin(aptidao)] < 6000):\n",
    "            break\n",
    "        \n",
    "    historico = np.array(historico)\n",
    "    return historico,populacao[np.argmin(aptidao)]\n",
    "\n",
    "# quanto maior a aptidao pior pq eu quero minimizar, entao eu quero a menor aptidao, a não ser que eu use o inverso da maior e ai eu manteria a decisão de ficar com a maior aptidao"
   ]
  },
  {
   "cell_type": "code",
   "execution_count": 181,
   "metadata": {},
   "outputs": [
    {
     "name": "stdout",
     "output_type": "stream",
     "text": [
      "6229.531308000624\n",
      "6229.531308000624\n",
      "6229.531308000624\n",
      "6229.531308000624\n",
      "6229.531308000624\n",
      "6229.531308000624\n",
      "6229.531308000624\n",
      "6229.531308000624\n",
      "6229.531308000624\n",
      "6229.531308000624\n",
      "6229.531308000624\n",
      "6229.531308000624\n",
      "6229.531308000624\n",
      "6229.531308000624\n",
      "6229.531308000624\n",
      "6229.531308000624\n",
      "6229.531308000624\n",
      "6229.531308000624\n",
      "6229.531308000624\n",
      "6229.531308000624\n",
      "6229.531308000624\n",
      "6229.531308000624\n",
      "6229.531308000624\n",
      "6229.531308000624\n",
      "6229.531308000624\n",
      "6229.531308000624\n",
      "6229.531308000624\n",
      "6229.531308000624\n",
      "6229.531308000624\n",
      "6229.531308000624\n",
      "6229.531308000624\n",
      "6229.531308000624\n",
      "6229.531308000624\n",
      "6229.531308000624\n",
      "6229.531308000624\n",
      "6229.531308000624\n",
      "6229.531308000624\n",
      "6229.531308000624\n",
      "6229.531308000624\n",
      "6229.531308000624\n",
      "6229.531308000624\n",
      "6229.531308000624\n",
      "6229.531308000624\n",
      "6229.531308000624\n",
      "6229.531308000624\n",
      "6229.531308000624\n",
      "6229.531308000624\n",
      "6229.531308000624\n",
      "6229.531308000624\n",
      "6080.650632000727\n",
      "6080.650632000727\n",
      "6080.650632000727\n",
      "6080.650632000727\n",
      "6080.650632000727\n",
      "6080.650632000727\n",
      "6080.650632000727\n",
      "6080.650632000727\n",
      "6080.650632000727\n",
      "6080.650632000727\n",
      "6080.650632000727\n",
      "6080.650632000727\n",
      "6080.650632000727\n",
      "6080.650632000727\n",
      "6080.650632000727\n",
      "6080.650632000727\n",
      "6080.650632000727\n",
      "6080.650632000727\n",
      "6080.650632000727\n",
      "6080.650632000727\n",
      "6080.650632000727\n",
      "6080.650632000727\n",
      "6080.650632000727\n",
      "6080.650632000727\n",
      "6080.650632000727\n",
      "6080.650632000727\n",
      "6080.650632000727\n",
      "6080.650632000727\n",
      "6080.650632000727\n",
      "6080.650632000727\n",
      "6080.650632000727\n",
      "6080.650632000727\n",
      "6080.650632000727\n",
      "6080.650632000727\n",
      "6080.650632000727\n",
      "6080.650632000727\n",
      "6080.650632000727\n",
      "6080.650632000727\n",
      "6080.650632000727\n",
      "6080.650632000727\n",
      "6080.650632000727\n",
      "6080.650632000727\n",
      "6080.650632000727\n",
      "6080.650632000727\n"
     ]
    }
   ],
   "source": [
    "# Tamanho da solução binária\n",
    "\n",
    "#num_genes = len(demandareal)\n",
    "\n",
    "# Número de indivíduos na população inicial\n",
    "volume_maximo = 5\n",
    "volume_minimo = 2\n",
    "vazao = 2\n",
    "\n",
    "# Parâmetros genéticos:\n",
    "\n",
    "procruz = 0.7\n",
    "probmut = 0.01\n",
    "num_individuals = 100 #tamanho da população\n",
    "\n",
    "# Algoritmo Genético:\n",
    "\n",
    "# Criação da população inicial\n",
    "\n",
    "dados,melhor_valor = AG(demandareal,tarifa,volume_maximo,volume_minimo,vazao,procruz,probmut,num_individuals)\n"
   ]
  },
  {
   "cell_type": "code",
   "execution_count": 182,
   "metadata": {},
   "outputs": [
    {
     "name": "stdout",
     "output_type": "stream",
     "text": [
      "[6.29 6.26 6.24 6.21 5.57 5.28 5.22 5.21 5.21 5.21 5.21 5.21 6.1  6.07\n",
      " 6.06 6.06 6.06 6.06 5.12 1.95 1.32 1.97 1.67 5.45 5.45 5.45 5.45 5.58\n",
      " 6.35 6.12 5.66 5.66 5.66 5.66 5.66 5.66 5.66 5.66 5.66 7.66 6.2  1.86\n",
      " 5.56 5.56 5.56 7.56 7.56 7.35 5.74 6.11 5.48 5.48 5.48 5.47 5.47 5.47\n",
      " 5.46 5.46 5.46 7.46 7.46 6.92 5.31 6.22 6.22 6.21 5.85 6.23 6.99 6.99\n",
      " 7.44 5.86 5.02 5.02 5.02 5.02 5.02 5.02 5.02 5.02 5.02 5.02 5.02 5.02\n",
      " 5.02 5.02 5.02 5.02 5.02 5.02 5.02 5.02 5.02 5.02 5.02 5.02 5.02 5.02\n",
      " 5.02 5.02 5.02 5.02 5.02 5.02 5.02 5.02 5.73 5.1  6.73 6.73 6.73 6.53\n",
      " 2.   5.75 5.75 5.75 5.75 5.75 5.75 5.75 5.75 5.75 5.75 5.75 5.75 5.75\n",
      " 5.75 5.75 5.68 1.2  5.53 5.42 5.42 5.42 5.42 5.42 5.42 6.12 5.02 5.9\n",
      " 5.9  5.9  5.89 6.34 5.68 5.01 6.2  6.78 5.26] 47.87160000000001 149\n"
     ]
    },
    {
     "data": {
      "text/plain": [
       "5789.112588000706"
      ]
     },
     "execution_count": 182,
     "metadata": {},
     "output_type": "execute_result"
    }
   ],
   "source": [
    "fitness(melhor_valor, demandareal, volume_maximo, volume_minimo, tarifa, vazao,1)\n"
   ]
  },
  {
   "cell_type": "code",
   "execution_count": 193,
   "metadata": {},
   "outputs": [
    {
     "data": {
      "image/png": "[encoded data removed]",
      "text/plain": [
       "<Figure size 640x480 with 1 Axes>"
      ]
     },
     "metadata": {},
     "output_type": "display_data"
    }
   ],
   "source": [
    "plt.plot(range(len(dados.T[0])),dados.T[0])\n",
    "plt.plot(range(len(dados.T[0])),dados.T[1])\n",
    "plt.grid()\n",
    "plt.xlim(-100, 6000)\n",
    "\n",
    "plt.show()"
   ]
  }
 ],
 "metadata": {
  "kernelspec": {
   "display_name": "Python 3",
   "language": "python",
   "name": "python3"
  },
  "language_info": {
   "codemirror_mode": {
    "name": "ipython",
    "version": 3
   },
   "file_extension": ".py",
   "mimetype": "text/x-python",
   "name": "python",
   "nbconvert_exporter": "python",
   "pygments_lexer": "ipython3",
   "version": "3.11.3"
  },
  "orig_nbformat": 4
 },
 "nbformat": 4,
 "nbformat_minor": 2
}
