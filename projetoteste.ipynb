{
 "cells": [
  {
   "attachments": {},
   "cell_type": "markdown",
   "metadata": {},
   "source": [
    " Parâmetros genéticos:\n",
    "\n",
    "num_individuals = 100 #tamanho da população\n",
    "\n",
    "probmut = [0.005,0.006,0.007,0.008,0.009,0.01,0.02,0.03,0.04,0.05]\n",
    "probcruz = [0.6, 0.7, 0.8, 0.9]\n",
    "\n",
    "resultados = []\n",
    "\n",
    "for probmut in probmut:\n",
    "    for probcruz in probcruz:\n",
    "        dados, melhor_valor = AG(demandareal, tarifa, volume_maximo, volume_minimo, vazao, probcruz, probmut, num_individuals)\n",
    "        resultado = fitness(melhor_valor, demandareal, volume_maximo, volume_minimo, tarifa, vazao)\n",
    "        resultados.append((probmut, probcruz, resultado))\n",
    "\n",
    "# Exibir os resultados\n",
    "for resultado in resultados:\n",
    "    probmut, probcruz, valor = resultado\n",
    "    print(f\"Taxa de Mutação: {probmut}, Taxa de Cruzamento: {probcruz}, Resultado: {valor}\")"
   ]
  },
  {
   "cell_type": "code",
   "execution_count": 9,
   "metadata": {},
   "outputs": [
    {
     "name": "stdout",
     "output_type": "stream",
     "text": [
      "The autoreload extension is already loaded. To reload it, use:\n",
      "  %reload_ext autoreload\n"
     ]
    }
   ],
   "source": [
    "# Bibliotecas necessárias\n",
    "%load_ext autoreload\n",
    "%autoreload 2\n",
    "\n",
    "import pandas as pd\n",
    "import itertools\n",
    "from AG import *"
   ]
  },
  {
   "cell_type": "code",
   "execution_count": 11,
   "metadata": {},
   "outputs": [],
   "source": [
    "# Leitura dos dados\n",
    "\n",
    "demandareal = pd.read_excel(\"setembro2021.xlsx\")\n",
    "demandareal = demandareal[\"CONSUMO\"].values\n",
    "tarifa = np.array([S(i) for i in range(len(demandareal))])"
   ]
  },
  {
   "cell_type": "code",
   "execution_count": null,
   "metadata": {},
   "outputs": [],
   "source": []
  },
  {
   "cell_type": "code",
   "execution_count": null,
   "metadata": {},
   "outputs": [],
   "source": []
  },
  {
   "cell_type": "code",
   "execution_count": null,
   "metadata": {},
   "outputs": [],
   "source": []
  },
  {
   "cell_type": "code",
   "execution_count": null,
   "metadata": {},
   "outputs": [],
   "source": []
  },
  {
   "cell_type": "code",
   "execution_count": null,
   "metadata": {},
   "outputs": [],
   "source": []
  },
  {
   "cell_type": "code",
   "execution_count": null,
   "metadata": {},
   "outputs": [],
   "source": []
  },
  {
   "cell_type": "code",
   "execution_count": 31,
   "metadata": {},
   "outputs": [
    {
     "name": "stdout",
     "output_type": "stream",
     "text": [
      "40911784.84746093\n",
      "32944145.457670227\n",
      "24228393.095411725\n",
      "18618568.204574123\n",
      "12944643.681753017\n",
      "7920723.777822018\n",
      "5191317.738819012\n",
      "3193409.281982111\n",
      "1424156.8926000036\n",
      "899400.3251879957\n",
      "470229.9023975949\n",
      "225514.8299460025\n",
      "158024.60369760141\n",
      "99483.25445100218\n",
      "90090.5197335018\n",
      "67192.97916870238\n",
      "65648.1815934021\n",
      "58140.967025400496\n",
      "51632.25038400133\n",
      "47033.28667350137\n",
      "43011.24818760122\n"
     ]
    }
   ],
   "source": [
    "# Tamanho da solução binária\n",
    "\n",
    "#num_genes = len(demandareal)\n",
    "\n",
    "# Número de indivíduos na população inicial\n",
    "volume_maximo = 5\n",
    "volume_minimo = 2\n",
    "vazao = 2\n",
    "\n",
    "# Parâmetros genéticos:\n",
    "\n",
    "probcruz = 1.0\n",
    "probmut = 0.\n",
    "num_individuals = 200 #tamanho da população\n",
    "\n",
    "# Algoritmo Genético:\n",
    "\n",
    "# Criação da população inicial\n",
    "\n",
    "dados,melhor_valor = AG(demandareal,tarifa,volume_maximo,volume_minimo,vazao,probcruz,probmut,num_individuals)\n"
   ]
  },
  {
   "cell_type": "code",
   "execution_count": 32,
   "metadata": {},
   "outputs": [
    {
     "name": "stdout",
     "output_type": "stream",
     "text": [
      "[ 1.99  0.9   0.68  1.58  1.51  1.43  1.35  1.28  1.22  1.21  1.21  1.21\n",
      "  1.21  1.21  0.1  -1.47 -3.01 -3.62 -1.65 -1.65 -1.65 -1.65 -1.65  0.35\n",
      "  0.35  0.35  0.35  0.34  0.29  0.24  0.18  0.12  1.54 -0.05 -1.32 -1.45\n",
      " -1.45 -1.45 -1.45 -1.45 -1.45 -1.45 -1.45 -1.45  0.55  6.54  8.54  8.54\n",
      "  8.54  8.54  8.54  8.54  8.54  8.54  8.54  8.54  8.54  8.54  8.54  7.44\n",
      "  5.82  6.86  6.86  6.86  6.86  6.86  6.86  6.86  6.86  6.86  6.86  6.86\n",
      "  6.86  6.86  6.86  6.86  6.86  6.86  6.86  6.86  6.86  6.86  6.86  6.86\n",
      "  6.86  6.86  6.86  6.86  6.86  6.4   5.28  5.45  5.45  5.45  5.45  7.45\n",
      "  7.45  7.45  6.55  5.04  5.85  5.58  1.31  0.61  6.35  6.35  6.35  6.35\n",
      "  6.35  8.35  8.35  8.35  8.35  8.35  8.35  8.35  8.35  8.35  8.35  8.35\n",
      "  8.35  8.35  8.12  6.54  5.37  6.27  6.    5.84  5.74  5.69  5.66  5.66\n",
      "  5.66  5.66  5.66  5.66  5.66  5.66  5.66  5.66  5.66  5.66  5.66  5.66\n",
      "  5.66  5.66  5.66  5.66  5.66  5.66  5.66  5.66  5.66  5.66  5.66  5.66\n",
      "  5.66  5.66  5.66  5.66  5.66  5.66  5.66  5.66  5.66  5.66  5.66  7.66\n",
      "  7.66  7.66  7.66  7.66  6.2   1.86  1.71  1.58  1.57  1.57  1.57  5.57\n",
      "  5.56  5.56  7.56  7.56  7.56  7.56  7.56  7.35  5.74  1.9   1.7   1.55\n",
      "  1.48  1.48  1.48  1.48  5.48  5.47  5.47  5.47  5.46  5.46  5.46  5.46\n",
      "  5.46  5.31  6.22  6.21  5.85  1.48  1.13  1.    1.86  0.3  -0.46 -0.69\n",
      " -0.81 -0.92 -0.98 -0.98 -0.98 -0.98 -0.98 -0.98 -0.98 -0.98 -0.98  1.02\n",
      "  1.02  1.02  1.02  1.02  1.02  5.02  7.02  7.02  7.02  7.02  7.02  7.02\n",
      "  7.02  7.02  7.02  7.02  7.02  7.02  7.02  7.02  6.33  6.28  6.28  6.28\n",
      "  6.28  6.28  6.28  6.28  6.28  5.51  5.98  5.93  5.93  5.93  5.93  5.93\n",
      "  5.93  5.93  5.93  5.73  6.6   5.42  5.1   6.8   8.73  8.73  8.73  8.73\n",
      "  8.73  8.53  6.91  5.3   5.75  5.75  5.75  5.75  5.75  5.75  5.75  5.75\n",
      "  5.75  5.75  5.75  5.75  5.75  5.75  5.75  5.75  5.75  5.68  1.2   1.\n",
      "  1.    1.    1.    6.53  6.43  6.36  6.29  6.24  6.2   6.19  6.18  6.18\n",
      "  1.7   1.22  1.22  1.22  1.22  1.22  1.22  1.22  1.22  1.22  1.22  1.19\n",
      "  1.1   1.    0.92  0.87  1.93  0.38 -0.36 -0.57 -0.58  1.42  1.42  1.42\n",
      "  1.42  5.42  5.42  5.42  5.42  5.42  5.42  5.42  5.42  5.42  5.42  5.42\n",
      "  5.42  5.42  5.42  5.42  7.42  7.42  7.42  7.42  7.42  7.42  7.42  7.42\n",
      "  7.42  7.42  7.42  7.42  7.42  7.42  7.42  7.42  7.42  7.42  7.42  7.42\n",
      "  7.42  7.42  7.42  7.42  7.42  7.42  7.42  9.42  9.42  9.42  9.42  9.42\n",
      "  9.42  8.12  6.55  5.02  5.9   5.9   5.9   5.9   7.9   7.9   7.9   7.89\n",
      "  6.34  0.55 -0.71 -0.99  0.89  0.83  0.79  0.76  0.73  0.73  0.73  0.73\n",
      "  6.73  6.73  6.73  6.2 ] 41.16618000000001 412\n"
     ]
    },
    {
     "data": {
      "text/plain": [
       "43011.24818760122"
      ]
     },
     "execution_count": 32,
     "metadata": {},
     "output_type": "execute_result"
    }
   ],
   "source": [
    "fitness(melhor_valor, demandareal, volume_maximo, volume_minimo, tarifa, vazao,1)\n"
   ]
  },
  {
   "cell_type": "code",
   "execution_count": 34,
   "metadata": {},
   "outputs": [
    {
     "data": {
      "image/png": "[encoded data removed]",
      "text/plain": [
       "<Figure size 640x480 with 1 Axes>"
      ]
     },
     "metadata": {},
     "output_type": "display_data"
    }
   ],
   "source": [
    "plt.plot(range(len(dados.T[0])),dados.T[0])\n",
    "plt.plot(range(len(dados.T[0])),dados.T[1])\n",
    "plt.grid()\n",
    "plt.show()"
   ]
  },
  {
   "cell_type": "code",
   "execution_count": 37,
   "metadata": {},
   "outputs": [],
   "source": [
    "probmut = [0.005,0.006,0.007,0.008,0.009,0.01,0.02,0.03,0.04,0.05]\n",
    "probcruz = [0.6, 0.7, 0.8, 0.9]\n",
    "combinacoes = list(itertools.product(probcruz, probmut))"
   ]
  },
  {
   "cell_type": "code",
   "execution_count": 41,
   "metadata": {},
   "outputs": [
    {
     "name": "stdout",
     "output_type": "stream",
     "text": [
      "Foi: 0.025\n",
      "Foi: 0.05\n",
      "Foi: 0.075\n",
      "Foi: 0.1\n",
      "Foi: 0.125\n",
      "Foi: 0.15\n",
      "Foi: 0.175\n",
      "Foi: 0.2\n",
      "Foi: 0.225\n",
      "Foi: 0.25\n",
      "Foi: 0.275\n",
      "Foi: 0.3\n",
      "Foi: 0.325\n",
      "Foi: 0.35\n",
      "Foi: 0.375\n",
      "Foi: 0.4\n",
      "Foi: 0.425\n",
      "Foi: 0.45\n",
      "Foi: 0.475\n",
      "Foi: 0.5\n",
      "Foi: 0.525\n",
      "Foi: 0.55\n",
      "Foi: 0.575\n",
      "Foi: 0.6\n",
      "Foi: 0.625\n",
      "Foi: 0.65\n",
      "Foi: 0.675\n",
      "Foi: 0.7\n",
      "Foi: 0.725\n",
      "Foi: 0.75\n"
     ]
    }
   ],
   "source": [
    "x = 42\n",
    "final = []\n",
    "cont = 0\n",
    "for comb in combinacoes:\n",
    "    melhor = 0\n",
    "    for i in range(20):\n",
    "        _,melhor_valor = AG(demandareal,tarifa,volume_maximo,volume_minimo,vazao,comb[0],comb[1],num_individuals,i*x)\n",
    "        melhor += melhor_valor\n",
    "    x += 42\n",
    "    melhor = melhor/100\n",
    "    final.append([comb[0],comb[1],melhor])\n",
    "    cont += 1\n",
    "    print(f\"Foi: {cont/len(combinacoes)}\")"
   ]
  },
  {
   "cell_type": "code",
   "execution_count": null,
   "metadata": {},
   "outputs": [],
   "source": []
  }
 ],
 "metadata": {
  "kernelspec": {
   "display_name": "Python 3",
   "language": "python",
   "name": "python3"
  },
  "language_info": {
   "codemirror_mode": {
    "name": "ipython",
    "version": 3
   },
   "file_extension": ".py",
   "mimetype": "text/x-python",
   "name": "python",
   "nbconvert_exporter": "python",
   "pygments_lexer": "ipython3",
   "version": "3.10.6"
  },
  "orig_nbformat": 4
 },
 "nbformat": 4,
 "nbformat_minor": 2
}
