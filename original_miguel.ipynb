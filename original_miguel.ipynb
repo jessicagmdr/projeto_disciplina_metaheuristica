{
 "cells": [
  {
   "cell_type": "code",
   "execution_count": 157,
   "metadata": {},
   "outputs": [],
   "source": [
    "# Bibliotecas necessárias\n",
    "\n",
    "import numpy as np\n",
    "import pandas as pd\n",
    "import matplotlib.pyplot as plt"
   ]
  },
  {
   "cell_type": "code",
   "execution_count": 158,
   "metadata": {},
   "outputs": [],
   "source": [
    "# Leitura dos dados\n",
    "\n",
    "demandareal = pd.read_excel(\"./setembro2021.xlsx\")\n",
    "demandareal = demandareal[\"CONSUMO\"].values\n",
    "teste = np.reshape(demandareal,(30,24))\n"
   ]
  },
  {
   "cell_type": "code",
   "execution_count": 159,
   "metadata": {},
   "outputs": [],
   "source": [
    "# Função objetivo a ser minimizada, com penalidade de demanda\n",
    "\n",
    "def fitness(individuo,demanda,volume_maximo,volume_minimo,custo,vazao,check = 0):\n",
    "\n",
    "    volume = volume_maximo\n",
    "\n",
    "    fit = np.sum(custo[individuo])\n",
    "    volume_t = individuo*vazao - demanda\n",
    "    volume_t = np.array([volume] + list(volume_t))\n",
    "    volume_t = np.cumsum(volume_t)\n",
    "    volume_penal = volume_t[(volume_t <volume_minimo)| (volume_t  >volume_maximo)]\n",
    "\n",
    "    if(check == 1):\n",
    "        print(volume_penal,fit,len(volume_penal))\n",
    "\n",
    "    fit += fit*(np.sum(np.abs(volume_penal-volume)))\n",
    "    return fit\n",
    "\n"
   ]
  },
  {
   "cell_type": "code",
   "execution_count": 160,
   "metadata": {},
   "outputs": [
    {
     "data": {
      "text/plain": [
       "(720,)"
      ]
     },
     "execution_count": 160,
     "metadata": {},
     "output_type": "execute_result"
    }
   ],
   "source": [
    "# Definição da tarifa:\n",
    "\n",
    "def S(t):\n",
    "    hora = t % 24  # Calcula a hora do dia a partir do índice t\n",
    "    if hora >= 17 and hora < 21:  # Horário de ponta\n",
    "        return 1.63527\n",
    "    else:  # Horário fora de ponta\n",
    "        return 0.62124\n",
    "        \n",
    "tarifa = np.array([S(i) for i in range(len(demandareal))])\n",
    "tarifa.shape"
   ]
  },
  {
   "cell_type": "code",
   "execution_count": 161,
   "metadata": {},
   "outputs": [],
   "source": [
    "# Seleção\n",
    "\n",
    "def selecao(populacao, aptidao):\n",
    "    aid = np.random.choice(len(populacao), size=2, replace=False)\n",
    "    bid = np.random.choice(len(populacao), size=2, replace=False)\n",
    "    \n",
    "    aid = aid[np.argmax(aptidao[aid])]\n",
    "    bid = bid[np.argmax(aptidao[bid])]\n",
    "    a = populacao[aid]\n",
    "    b = populacao[bid]\n",
    "    apt = aptidao[aid]\n",
    "    bpt = aptidao[bid]\n",
    "    \n",
    "    return np.array([a, b]), np.array([apt, bpt])"
   ]
  },
  {
   "cell_type": "code",
   "execution_count": 162,
   "metadata": {},
   "outputs": [],
   "source": [
    "# Cruzamento\n",
    "\n",
    "def cruzamento(pais,aptidao,procruz):\n",
    "    if(np.random.rand()<procruz):\n",
    "        p = 1 - aptidao/(np.sum(aptidao))\n",
    "        filho = np.array([pais[0][i] if(np.random.rand() < p[0]) else pais[1][i] for i in range(pais.shape[1])])\n",
    "    else:\n",
    "        filho = pais[np.argmin(aptidao),:]\n",
    "    return filho "
   ]
  },
  {
   "cell_type": "code",
   "execution_count": 163,
   "metadata": {},
   "outputs": [],
   "source": [
    "# Mutação\n",
    "\n",
    "def mutacao(individuo,probmut):\n",
    "    n=len(individuo)\n",
    "    copia = np.copy(individuo)\n",
    "    idx = np.random.choice(n,size=int(np.ceil(probmut*n)),replace=False)\n",
    "    copia[idx] = ~individuo[idx]\n",
    "    return copia"
   ]
  },
  {
   "cell_type": "code",
   "execution_count": 164,
   "metadata": {},
   "outputs": [],
   "source": [
    "def AG(demandareal, tarifa, volume_maximo, volume_minimo, vazao, procruz, probmut, num_individuals):\n",
    "    \n",
    "    np.random.seed(424)\n",
    "    num_genes = len(demandareal)\n",
    "    populacao = np.random.choice([True, False], size=(num_individuals, num_genes))\n",
    "    F = lambda individuo: fitness(individuo, demandareal, volume_maximo, volume_minimo, tarifa, vazao)\n",
    "    aptidao = np.array([F(individuo) for individuo in populacao])\n",
    "\n",
    "    historico = []\n",
    "    contador = 0\n",
    "\n",
    "    while True:\n",
    "        \n",
    "        pais,apt = selecao(populacao,aptidao)\n",
    "\n",
    "        filho = cruzamento(pais,apt,procruz)\n",
    "        filho = mutacao(filho,probmut)\n",
    "\n",
    "        populacao[np.argmax(aptidao),:] = filho\n",
    "        aptidao[np.argmax(aptidao)] = F(filho)\n",
    "\n",
    "        historico.append([aptidao[np.argmin(aptidao)],np.mean(aptidao)])\n",
    "\n",
    "        if(np.mean(aptidao) - aptidao[np.argmin(aptidao)] < 1e-5):\n",
    "            break\n",
    "        contador += 1\n",
    "        if(contador%1000 == 0):\n",
    "            print(aptidao[np.argmin(aptidao)])\n",
    "        if(aptidao[np.argmin(aptidao)] < 6000):\n",
    "            break\n",
    "        \n",
    "    historico = np.array(historico)\n",
    "    return historico, populacao[np.argmin(aptidao)]\n"
   ]
  },
  {
   "cell_type": "code",
   "execution_count": 165,
   "metadata": {},
   "outputs": [
    {
     "name": "stdout",
     "output_type": "stream",
     "text": [
      "26576779.14669243\n",
      "20761327.05979862\n",
      "16839394.016919322\n",
      "15155799.53545532\n",
      "13571370.026221821\n",
      "11448625.67956712\n",
      "10945714.952733617\n",
      "10945714.952733617\n",
      "8891765.475855617\n",
      "8416258.461930018\n",
      "8416258.461930018\n",
      "8337830.223210016\n",
      "8325324.321583516\n",
      "7983799.936294216\n",
      "7983799.936294216\n",
      "7816328.135107517\n",
      "6737484.312010217\n",
      "6737484.312010217\n",
      "6737484.312010217\n",
      "6737484.312010217\n",
      "6737484.312010217\n",
      "6507027.199137915\n",
      "6335284.221331213\n",
      "5939239.329318914\n",
      "5939239.329318914\n",
      "5939239.329318914\n",
      "4992941.586566415\n",
      "4992941.586566415\n",
      "4992941.586566415\n",
      "4992941.586566415\n",
      "4992941.586566415\n",
      "4992941.586566415\n",
      "4992941.586566415\n",
      "4992941.586566415\n",
      "4992941.586566415\n",
      "4992941.586566415\n",
      "4992941.586566415\n",
      "4992941.586566415\n",
      "4992941.586566415\n",
      "4399920.82716241\n",
      "4399920.82716241\n",
      "4399920.82716241\n",
      "4399920.82716241\n",
      "4399920.82716241\n",
      "3939631.540614012\n",
      "3939631.540614012\n",
      "3939631.540614012\n",
      "3939631.540614012\n",
      "3939631.540614012\n",
      "3939631.540614012\n",
      "3939631.540614012\n",
      "3939631.540614012\n",
      "3939631.540614012\n",
      "3939631.540614012\n",
      "3939631.540614012\n",
      "3939631.540614012\n",
      "3939631.540614012\n",
      "3939631.540614012\n"
     ]
    },
    {
     "ename": "KeyboardInterrupt",
     "evalue": "",
     "output_type": "error",
     "traceback": [
      "\u001b[1;31m---------------------------------------------------------------------------\u001b[0m",
      "\u001b[1;31mKeyboardInterrupt\u001b[0m                         Traceback (most recent call last)",
      "Cell \u001b[1;32mIn[165], line 15\u001b[0m\n\u001b[0;32m     10\u001b[0m num_individuals \u001b[39m=\u001b[39m \u001b[39m20\u001b[39m \u001b[39m#tamanho da população\u001b[39;00m\n\u001b[0;32m     11\u001b[0m \u001b[39m#geracoes = 8000\u001b[39;00m\n\u001b[0;32m     12\u001b[0m \n\u001b[0;32m     13\u001b[0m \u001b[39m# Algoritmo Genético:\u001b[39;00m\n\u001b[1;32m---> 15\u001b[0m dados,melhor_valor \u001b[39m=\u001b[39m AG(demandareal, tarifa, volume_maximo, volume_minimo, vazao, procruz, probmut, num_individuals)\n",
      "Cell \u001b[1;32mIn[164], line 20\u001b[0m, in \u001b[0;36mAG\u001b[1;34m(demandareal, tarifa, volume_maximo, volume_minimo, vazao, procruz, probmut, num_individuals)\u001b[0m\n\u001b[0;32m     17\u001b[0m filho \u001b[39m=\u001b[39m mutacao(filho,probmut)\n\u001b[0;32m     19\u001b[0m populacao[np\u001b[39m.\u001b[39margmax(aptidao),:] \u001b[39m=\u001b[39m filho\n\u001b[1;32m---> 20\u001b[0m aptidao[np\u001b[39m.\u001b[39margmax(aptidao)] \u001b[39m=\u001b[39m F(filho)\n\u001b[0;32m     22\u001b[0m historico\u001b[39m.\u001b[39mappend([aptidao[np\u001b[39m.\u001b[39margmin(aptidao)],np\u001b[39m.\u001b[39mmean(aptidao)])\n\u001b[0;32m     24\u001b[0m \u001b[39mif\u001b[39;00m(np\u001b[39m.\u001b[39mmean(aptidao) \u001b[39m-\u001b[39m aptidao[np\u001b[39m.\u001b[39margmin(aptidao)] \u001b[39m<\u001b[39m \u001b[39m1e-5\u001b[39m):\n",
      "Cell \u001b[1;32mIn[164], line 6\u001b[0m, in \u001b[0;36mAG.<locals>.<lambda>\u001b[1;34m(individuo)\u001b[0m\n\u001b[0;32m      4\u001b[0m num_genes \u001b[39m=\u001b[39m \u001b[39mlen\u001b[39m(demandareal)\n\u001b[0;32m      5\u001b[0m populacao \u001b[39m=\u001b[39m np\u001b[39m.\u001b[39mrandom\u001b[39m.\u001b[39mchoice([\u001b[39mTrue\u001b[39;00m, \u001b[39mFalse\u001b[39;00m], size\u001b[39m=\u001b[39m(num_individuals, num_genes))\n\u001b[1;32m----> 6\u001b[0m F \u001b[39m=\u001b[39m \u001b[39mlambda\u001b[39;00m individuo: fitness(individuo, demandareal, volume_maximo, volume_minimo, tarifa, vazao)\n\u001b[0;32m      7\u001b[0m aptidao \u001b[39m=\u001b[39m np\u001b[39m.\u001b[39marray([F(individuo) \u001b[39mfor\u001b[39;00m individuo \u001b[39min\u001b[39;00m populacao])\n\u001b[0;32m      9\u001b[0m historico \u001b[39m=\u001b[39m []\n",
      "Cell \u001b[1;32mIn[159], line 7\u001b[0m, in \u001b[0;36mfitness\u001b[1;34m(individuo, demanda, volume_maximo, volume_minimo, custo, vazao, check)\u001b[0m\n\u001b[0;32m      3\u001b[0m \u001b[39mdef\u001b[39;00m \u001b[39mfitness\u001b[39m(individuo,demanda,volume_maximo,volume_minimo,custo,vazao,check \u001b[39m=\u001b[39m \u001b[39m0\u001b[39m):\n\u001b[0;32m      5\u001b[0m     volume \u001b[39m=\u001b[39m volume_maximo\n\u001b[1;32m----> 7\u001b[0m     fit \u001b[39m=\u001b[39m np\u001b[39m.\u001b[39;49msum(custo[individuo])\n\u001b[0;32m      8\u001b[0m     volume_t \u001b[39m=\u001b[39m individuo\u001b[39m*\u001b[39mvazao \u001b[39m-\u001b[39m demanda\n\u001b[0;32m      9\u001b[0m     volume_t \u001b[39m=\u001b[39m np\u001b[39m.\u001b[39marray([volume] \u001b[39m+\u001b[39m \u001b[39mlist\u001b[39m(volume_t))\n",
      "File \u001b[1;32m<__array_function__ internals>:177\u001b[0m, in \u001b[0;36msum\u001b[1;34m(*args, **kwargs)\u001b[0m\n",
      "\u001b[1;31mKeyboardInterrupt\u001b[0m: "
     ]
    }
   ],
   "source": [
    "# Número de indivíduos na população inicial\n",
    "volume_maximo = 5\n",
    "volume_minimo = 2\n",
    "vazao = 2\n",
    "\n",
    "# Parâmetros genéticos:\n",
    "\n",
    "procruz = 0.8\n",
    "probmut = 0.05\n",
    "num_individuals = 20 #tamanho da população\n",
    "#geracoes = 8000\n",
    "\n",
    "# Algoritmo Genético:\n",
    "\n",
    "dados,melhor_valor = AG(demandareal, tarifa, volume_maximo, volume_minimo, vazao, procruz, probmut, num_individuals)\n"
   ]
  },
  {
   "cell_type": "code",
   "execution_count": null,
   "metadata": {},
   "outputs": [
    {
     "name": "stdout",
     "output_type": "stream",
     "text": [
      "[ 6.4900000e+00  6.4200000e+00  6.3800000e+00  6.3400000e+00\n",
      "  6.3100000e+00  6.2900000e+00  6.2600000e+00  6.2400000e+00\n",
      "  6.2100000e+00  5.5700000e+00  6.6500000e+00  6.6500000e+00\n",
      "  6.6500000e+00  6.6500000e+00  6.2500000e+00  5.5800000e+00\n",
      "  7.5100000e+00  7.4300000e+00  7.3500000e+00  7.2800000e+00\n",
      "  7.2200000e+00  7.2100000e+00  7.2100000e+00  7.2100000e+00\n",
      "  7.2100000e+00  7.2100000e+00  6.1000000e+00  6.3500000e+00\n",
      "  6.3500000e+00  6.3500000e+00  6.3500000e+00  6.3500000e+00\n",
      "  6.3500000e+00  6.3400000e+00  6.2900000e+00  6.2400000e+00\n",
      "  6.1800000e+00  6.1200000e+00  6.0700000e+00  6.0600000e+00\n",
      "  6.0600000e+00  8.0600000e+00  8.0600000e+00  7.1200000e+00\n",
      "  5.5400000e+00  6.5400000e+00  6.5400000e+00  6.5400000e+00\n",
      "  5.4400000e+00  1.3200000e+00  1.0300000e+00  9.6000000e-01\n",
      "  9.3000000e-01  8.9000000e-01  8.6000000e-01  8.6000000e-01\n",
      "  8.6000000e-01  1.9700000e+00  1.6700000e+00  1.5400000e+00\n",
      "  1.4600000e+00  5.4500000e+00  5.4500000e+00  5.4500000e+00\n",
      "  5.4500000e+00  5.4500000e+00  5.4500000e+00  5.4500000e+00\n",
      "  5.4500000e+00  5.4500000e+00  5.4500000e+00  7.4500000e+00\n",
      "  7.4500000e+00  7.4500000e+00  7.4500000e+00  7.4500000e+00\n",
      "  6.5500000e+00  5.0400000e+00  1.3100000e+00  6.1000000e-01\n",
      "  4.4000000e-01  3.6000000e-01  3.5000000e-01  6.3500000e+00\n",
      "  6.3500000e+00  6.3500000e+00  6.1200000e+00  5.6600000e+00\n",
      "  5.6600000e+00  5.6600000e+00  5.6600000e+00  5.6600000e+00\n",
      "  5.6600000e+00  5.6600000e+00  5.6600000e+00  5.6600000e+00\n",
      "  5.6600000e+00  5.6600000e+00  5.6600000e+00  5.6600000e+00\n",
      "  5.6600000e+00  5.6600000e+00  5.6600000e+00  5.6600000e+00\n",
      "  5.6600000e+00  6.2000000e+00  5.5700000e+00  5.5700000e+00\n",
      "  5.5600000e+00  5.5600000e+00  5.5600000e+00  7.5600000e+00\n",
      "  9.5600000e+00  9.5600000e+00  9.5600000e+00  9.3500000e+00\n",
      "  7.7400000e+00  6.1100000e+00  5.4600000e+00  7.4600000e+00\n",
      "  7.4600000e+00  7.4600000e+00  6.9200000e+00  5.3100000e+00\n",
      "  5.8500000e+00  1.4800000e+00  1.1300000e+00  1.0000000e+00\n",
      "  1.0000000e+00  1.0000000e+00  1.0000000e+00  1.0000000e+00\n",
      "  1.0000000e+00  1.0000000e+00  1.0000000e+00  1.0000000e+00\n",
      "  5.4400000e+00  1.5400000e+00  1.3100000e+00  1.1900000e+00\n",
      "  1.0800000e+00  1.0200000e+00  5.0200000e+00  5.0200000e+00\n",
      "  5.0200000e+00  5.0200000e+00  5.0200000e+00  5.0200000e+00\n",
      "  5.0200000e+00  5.0200000e+00  5.0200000e+00  5.0200000e+00\n",
      "  5.0200000e+00  5.0200000e+00  5.0200000e+00  5.0200000e+00\n",
      "  5.0200000e+00  5.0200000e+00  5.0200000e+00  5.0200000e+00\n",
      "  5.0200000e+00  5.0200000e+00  5.0200000e+00  7.0200000e+00\n",
      "  7.0200000e+00  7.0200000e+00  6.3300000e+00  1.9800000e+00\n",
      "  1.3000000e+00 -2.6423308e-14 -2.4000000e-01 -2.5000000e-01\n",
      "  1.7500000e+00  5.7500000e+00  5.7500000e+00  5.7500000e+00\n",
      "  5.7500000e+00  5.7500000e+00  5.7500000e+00  7.7500000e+00\n",
      "  7.7500000e+00  7.7500000e+00  7.7500000e+00  7.7500000e+00\n",
      "  7.7500000e+00  9.7500000e+00  9.6800000e+00  8.0800000e+00\n",
      "  6.4800000e+00  5.2000000e+00  6.2000000e+00  6.1900000e+00\n",
      "  8.1800000e+00  8.1800000e+00  6.8400000e+00  5.2500000e+00\n",
      "  6.8700000e+00  6.8600000e+00  5.5300000e+00  1.6400000e+00\n",
      "  1.4300000e+00  1.4200000e+00  1.4200000e+00  1.4200000e+00\n",
      "  1.4200000e+00  1.4200000e+00  1.4200000e+00  5.4200000e+00\n",
      "  5.4200000e+00  5.4200000e+00  5.4200000e+00  5.4200000e+00\n",
      "  5.4200000e+00  5.4200000e+00  5.4200000e+00  5.4200000e+00\n",
      "  5.4200000e+00  5.4200000e+00  7.4200000e+00  7.4200000e+00\n",
      "  7.4200000e+00  7.4200000e+00  7.4200000e+00  7.4200000e+00\n",
      "  7.4200000e+00  7.4200000e+00  9.4200000e+00  9.4200000e+00\n",
      "  8.1200000e+00  6.5500000e+00  5.0200000e+00  5.9000000e+00\n",
      "  5.9000000e+00  5.9000000e+00  5.9000000e+00  5.9000000e+00\n",
      "  5.9000000e+00  7.9000000e+00  7.9000000e+00  7.8900000e+00\n",
      "  6.3400000e+00  1.2900000e+00  1.0100000e+00  8.9000000e-01\n",
      "  6.2000000e+00] 41.16618000000001 245\n"
     ]
    },
    {
     "data": {
      "text/plain": [
       "18942.20606520106"
      ]
     },
     "execution_count": 143,
     "metadata": {},
     "output_type": "execute_result"
    }
   ],
   "source": [
    "fitness(melhor_valor, demandareal, volume_maximo, volume_minimo, tarifa, vazao,1)\n"
   ]
  },
  {
   "cell_type": "code",
   "execution_count": null,
   "metadata": {},
   "outputs": [
    {
     "data": {
      "image/png": "[encoded data removed]",
      "text/plain": [
       "<Figure size 640x480 with 1 Axes>"
      ]
     },
     "metadata": {},
     "output_type": "display_data"
    }
   ],
   "source": [
    "plt.plot(range(len(dados.T[0])), dados.T[0])\n",
    "plt.plot(range(len(dados.T[0])), dados.T[1])\n",
    "plt.grid()\n",
    "plt.xlim(0, 14000)\n",
    "plt.show()"
   ]
  }
 ],
 "metadata": {
  "kernelspec": {
   "display_name": "Python 3",
   "language": "python",
   "name": "python3"
  },
  "language_info": {
   "codemirror_mode": {
    "name": "ipython",
    "version": 3
   },
   "file_extension": ".py",
   "mimetype": "text/x-python",
   "name": "python",
   "nbconvert_exporter": "python",
   "pygments_lexer": "ipython3",
   "version": "3.10.6"
  },
  "orig_nbformat": 4
 },
 "nbformat": 4,
 "nbformat_minor": 2
}
